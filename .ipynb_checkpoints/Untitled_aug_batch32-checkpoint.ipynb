{
 "cells": [
  {
   "cell_type": "code",
   "execution_count": null,
   "metadata": {},
   "outputs": [],
   "source": [
    "import tensorflow as tf\n",
    "import tqdm, os\n",
    "import util, data_gen, net\n",
    "import numpy as np\n",
    "\n",
    "from matplotlib import pyplot as plt\n",
    "from IPython.display import clear_output\n",
    "\n",
    "tf.set_random_seed(42)"
   ]
  },
  {
   "cell_type": "code",
   "execution_count": null,
   "metadata": {},
   "outputs": [],
   "source": [
    "depth = tf.placeholder(tf.float32, shape=[None, None, None, 3])\n",
    "ego = tf.placeholder(tf.float32, shape=[None, None, None, 6])\n",
    "labels = tf.placeholder(tf.float32, shape=[None, None, None, 6])"
   ]
  },
  {
   "cell_type": "code",
   "execution_count": null,
   "metadata": {},
   "outputs": [],
   "source": [
    "depth_pred = net.disp_net(depth)\n",
    "ego_pred = net.egomotion_net(ego)"
   ]
  },
  {
   "cell_type": "code",
   "execution_count": null,
   "metadata": {},
   "outputs": [],
   "source": [
    "total_loss = util.total_aux_loss(labels, depth_pred, ego_pred)\n",
    "train_step = tf.train.AdamOptimizer(0.0002).minimize(total_loss)"
   ]
  },
  {
   "cell_type": "code",
   "execution_count": null,
   "metadata": {},
   "outputs": [],
   "source": [
    "kitti_path = '/data1/Kitti/usl/data_kitti/img/'\n",
    "batch = 32\n",
    "img_list = data_gen.dataset_list_loader(kitti_path)\n",
    "train = data_gen.data_generator(img_list, batch)"
   ]
  },
  {
   "cell_type": "code",
   "execution_count": null,
   "metadata": {},
   "outputs": [],
   "source": [
    "intrinsic = np.array([[7.215377e+02, 0.000000e+00, 6.095593e+02, 4.485728e+01],\n",
    "                      [0.000000e+00, 7.215377e+02, 1.728540e+02, 2.163791e-01], \n",
    "                      [0.000000e+00, 0.000000e+00, 1.000000e+00, 2.745884e-03]])\n",
    "intrinsic_mat = intrinsic[:3,:3]\n",
    "b = tf.ones([1, 3, 3])\n",
    "batch_intinsic_mat = b * intrinsic_mat\n",
    "batch_intinsic_inv_mat = b * tf.cast(tf.linalg.inv(intrinsic_mat) ,'float32')"
   ]
  },
  {
   "cell_type": "code",
   "execution_count": null,
   "metadata": {},
   "outputs": [],
   "source": [
    "sess = tf.Session()\n",
    "sess.run(tf.global_variables_initializer())"
   ]
  },
  {
   "cell_type": "code",
   "execution_count": null,
   "metadata": {
    "scrolled": false
   },
   "outputs": [],
   "source": [
    "train_loss = []\n",
    "epochs_loss = []\n",
    "epochs = 50\n",
    "SAVER_DIR = \"model\"\n",
    "saver = tf.train.Saver()\n",
    "checkpoint_path = os.path.join(SAVER_DIR, \"model\")\n",
    "ckpt = tf.train.get_checkpoint_state(SAVER_DIR)\n",
    "\n",
    "for j in range(epochs):\n",
    "    for i in range(np.int16(len(img_list)/batch*2)):\n",
    "        imgs = next(train)\n",
    "        _, loss = sess.run([train_step, total_loss], feed_dict={depth:imgs[:,:,:,3:], ego:imgs, labels:imgs})\n",
    "        #print('loss = ' + str(loss))\n",
    "\n",
    "        train_loss.append(loss)\n",
    "        if (i+1)%200 == 0 or i == 0:\n",
    "            plt.cla()\n",
    "            plt.clf()\n",
    "            plt.close()\n",
    "            clear_output(wait=True)\n",
    "            plt.plot(train_loss,'.-')\n",
    "            plt.show()\n",
    "\n",
    "            test_depth, test_ego = sess.run([depth_pred, ego_pred], feed_dict={depth:imgs[0:1,:,:,3:], ego: imgs[0:1]})\n",
    "            projected_img, mask = util.inverse_warp(tf.constant(imgs[0:1,:,:,:3]), test_depth[0], test_ego, batch_intinsic_mat, batch_intinsic_inv_mat)\n",
    "            projeti = sess.run(projected_img)\n",
    "            maski = sess.run(mask)\n",
    "            plt.figure(figsize=(15, 10))\n",
    "            plt.subplot(4,2,1)\n",
    "            plt.imshow(imgs[0,...,:3])\n",
    "            plt.title('input image')\n",
    "            plt.subplot(4,2,3)\n",
    "            plt.imshow(imgs[0,...,3:])\n",
    "            plt.title('label image')\n",
    "            plt.subplot(4,2,5)\n",
    "            plt.imshow(projeti[0,...])\n",
    "            plt.title('warped image')\n",
    "            plt.subplot(4,2,2)\n",
    "            plt.imshow(test_depth[0][0,...,0], cmap='plasma')\n",
    "            plt.title(\"vmin:%.2f, vmax:%.2f\"%(test_depth[0][0,...,0].min(), test_depth[0][0,...,0].max()))\n",
    "            plt.subplot(4,2,4)\n",
    "            plt.imshow(test_depth[1][0,...,0], cmap='plasma')\n",
    "            plt.title(\"vmin:%.2f, vmax:%.2f\"%(test_depth[1][0,...,0].min(), test_depth[1][0,...,0].max()))\n",
    "            plt.subplot(4,2,6)\n",
    "            plt.imshow(test_depth[2][0,...,0], cmap='plasma')\n",
    "            plt.title(\"vmin:%.2f, vmax:%.2f\"%(test_depth[2][0,...,0].min(), test_depth[2][0,...,0].max()))\n",
    "            plt.subplot(4,2,8)\n",
    "            plt.imshow(test_depth[3][0,...,0], cmap='plasma')\n",
    "            plt.title(\"vmin:%.2f, vmax:%.2f\"%(test_depth[3][0,...,0].min(), test_depth[3][0,...,0].max()))\n",
    "            plt.subplot(4,2,7)\n",
    "            plt.imshow(maski[0,...,0], cmap = 'gray')\n",
    "            plt.title('mask')\n",
    "            plt.tight_layout()\n",
    "            plt.show()\n",
    "    saver.save(sess, checkpoint_path, global_step = j)    \n",
    "    epochs_loss_tmp = np.mean(train_loss)\n",
    "    epochs_loss.append(epochs_loss_tmp)"
   ]
  },
  {
   "cell_type": "code",
   "execution_count": null,
   "metadata": {},
   "outputs": [],
   "source": [
    "SAVER_DIR = \"model\"\n",
    "saver = tf.train.Saver()\n",
    "checkpoint_path = os.path.join(SAVER_DIR, \"model\")\n",
    "ckpt = tf.train.get_checkpoint_state(SAVER_DIR)"
   ]
  },
  {
   "cell_type": "code",
   "execution_count": null,
   "metadata": {},
   "outputs": [],
   "source": [
    "saver.save(sess, checkpoint_path, global_step = epoch)"
   ]
  },
  {
   "cell_type": "code",
   "execution_count": null,
   "metadata": {},
   "outputs": [],
   "source": [
    "plt.figure(figsize=(16, 16))\n",
    "for i in range(16):\n",
    "    plt.subplot(4, 4, i+1)\n",
    "    plt.imshow(test_depth[0][i,...,0], cmap='gray', vmin=0, vmax = 1)\n",
    "plt.show()"
   ]
  },
  {
   "cell_type": "code",
   "execution_count": null,
   "metadata": {},
   "outputs": [],
   "source": [
    "test_depth[0].shape"
   ]
  },
  {
   "cell_type": "code",
   "execution_count": null,
   "metadata": {},
   "outputs": [],
   "source": [
    "imgs = next(train)\n",
    "intrinsic = np.array([[7.215377e+02, 0.000000e+00, 6.095593e+02, 4.485728e+01],\n",
    "                      [0.000000e+00, 7.215377e+02, 1.728540e+02, 2.163791e-01], \n",
    "                      [0.000000e+00, 0.000000e+00, 1.000000e+00, 2.745884e-03]])\n",
    "intrinsic_mat = intrinsic[:3,:3]\n",
    "b = tf.ones([32, 3, 3])\n",
    "batch_intinsic_mat = b * intrinsic_mat\n",
    "batch_intinsic_inv_mat = b * tf.cast(tf.linalg.inv(intrinsic_mat) ,'float32')\n",
    " \n",
    "# img = tf.random.uniform([16,384,512,6], minval= 0 , maxval= 1)\n",
    "# depth = tf.cast(tf.random.uniform([1,384,512,1], minval= 0 , maxval= 1),tf.float32)\n",
    "# egomotion = tf.cast(tf.random.uniform([1,6], minval= 0 , maxval= 1),tf.float32)\n",
    "\n",
    "test_depth, test_ego = sess.run([depth_pred, ego_pred], feed_dict={depth:imgs[:,:,:,3:], ego: imgs})\n",
    "projected_img, mask = util.inverse_warp(tf.constant(imgs[:,:,:,:3]), test_depth[0], test_ego, batch_intinsic_mat, batch_intinsic_inv_mat)\n",
    "projeti = sess.run(projected_img)\n",
    "maski = sess.run(mask)\n",
    "plt.figure(figsize=(15, 10))\n",
    "plt.subplot(4,2,1)\n",
    "plt.imshow(imgs[0,...,:3])\n",
    "plt.title(' image')\n",
    "plt.subplot(4,2,3)\n",
    "plt.imshow(imgs[2,...,3:])\n",
    "plt.title(' image')\n",
    "plt.subplot(4,2,5)\n",
    "plt.imshow(imgs[4,...,3:])\n",
    "plt.title(' image')\n",
    "plt.subplot(4,2,2)\n",
    "plt.imshow(10.1 - test_depth[0][0,...,0], vmin = 5, vmax = 10.1,  cmap='plasma')\n",
    "plt.title(\"vmin:%.2f, vmax:%.2f\"%(test_depth[0][0,...,0].min(), test_depth[0][0,...,0].max()))\n",
    "plt.subplot(4,2,4)\n",
    "plt.imshow(10.1 - test_depth[0][2,...,0], cmap='plasma')\n",
    "plt.title(\"vmin:%.2f, vmax:%.2f\"%(test_depth[0][2,...,0].min(), test_depth[1][0,...,0].max()))\n",
    "plt.subplot(4,2,6)\n",
    "plt.imshow(10.1 - test_depth[0][4,...,0], cmap='plasma')\n",
    "plt.title(\"vmin:%.2f, vmax:%.2f\"%(test_depth[0][4,...,0].min(), test_depth[2][0,...,0].max()))\n",
    "plt.subplot(4,2,8)\n",
    "plt.imshow(10.1 - test_depth[0][6,...,0], cmap='plasma')\n",
    "plt.title(\"vmin:%.2f, vmax:%.2f\"%(test_depth[0][6,...,0].min(), test_depth[2][0,...,0].max()))\n",
    "plt.subplot(4,2,7)\n",
    "plt.imshow(imgs[6,...,3:])\n",
    "plt.title('image')\n",
    "plt.tight_layout()\n",
    "plt.show()"
   ]
  },
  {
   "cell_type": "code",
   "execution_count": null,
   "metadata": {},
   "outputs": [],
   "source": [
    "import cv2"
   ]
  },
  {
   "cell_type": "code",
   "execution_count": null,
   "metadata": {},
   "outputs": [],
   "source": [
    "depth_test = test_depth[0][0,...,0]\n",
    "depth_test_eq = cv2.equalizeHist(depth_test)"
   ]
  },
  {
   "cell_type": "code",
   "execution_count": null,
   "metadata": {},
   "outputs": [],
   "source": [
    "plt.hist(depth_test.ravel(), bins = 256, range = [0, 10.1])"
   ]
  },
  {
   "cell_type": "code",
   "execution_count": null,
   "metadata": {},
   "outputs": [],
   "source": []
  }
 ],
 "metadata": {
  "kernelspec": {
   "display_name": "Python 3",
   "language": "python",
   "name": "python3"
  },
  "language_info": {
   "codemirror_mode": {
    "name": "ipython",
    "version": 3
   },
   "file_extension": ".py",
   "mimetype": "text/x-python",
   "name": "python",
   "nbconvert_exporter": "python",
   "pygments_lexer": "ipython3",
   "version": "3.5.2"
  }
 },
 "nbformat": 4,
 "nbformat_minor": 2
}
